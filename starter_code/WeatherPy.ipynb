{
 "cells": [
  {
   "cell_type": "markdown",
   "metadata": {},
   "source": [
    "# WeatherPy\n",
    "----\n",
    "\n",
    "#### Note\n",
    "* Instructions have been included for each segment. You do not have to follow them exactly, but they are included to help you think through the steps."
   ]
  },
  {
   "cell_type": "code",
   "execution_count": 1,
   "metadata": {
    "scrolled": true
   },
   "outputs": [],
   "source": [
    "# Import dependencies\n",
    "import matplotlib.pyplot as plt\n",
    "import requests\n",
    "import pandas as pd\n",
    "import numpy as np\n",
    "from scipy.stats import linregress\n",
    "from datetime import datetime\n",
    "import time\n",
    "\n",
    "from citipy import citipy\n",
    "\n",
    "from api_keys import weather_api_key\n",
    "from api_keys import g_key\n",
    "\n",
    "# Define output file path\n",
    "output_data_file = \"output_data/cities.csv\"\n",
    "\n",
    "# Lat and long co-ordinates\n",
    "lat_range = (-90, 90)\n",
    "lng_range = (-180, 180)\n",
    "\n",
    "# URL\n",
    "url = \"http://api.openweathermap.org/data/2.5/weather?\"\n",
    "unit = \"imperial\"\n",
    "query_url = f\"{url}&appid={weather_api_key}&units={unit}&q=\""
   ]
  },
  {
   "cell_type": "markdown",
   "metadata": {},
   "source": [
    "## Generate Cities List"
   ]
  },
  {
   "cell_type": "code",
   "execution_count": 6,
   "metadata": {},
   "outputs": [
    {
     "data": {
      "text/plain": [
       "613"
      ]
     },
     "execution_count": 6,
     "metadata": {},
     "output_type": "execute_result"
    }
   ],
   "source": [
    "# Create a list for holding lat_lngs and cities\n",
    "lat_lngs = []\n",
    "cities = []\n",
    "\n",
    "# Create random lat and lng combinations\n",
    "lats = np.random.uniform(lat_range[0], lat_range[1], size=1500)\n",
    "lngs = np.random.uniform(lng_range[0], lng_range[1], size=1500)\n",
    "lat_lngs = zip(lats, lngs)\n",
    "\n",
    "# See what nearest city is for each lat, lng combination\n",
    "for lat_lng in lat_lngs:\n",
    "    city = citipy.nearest_city(lat_lng[0], lat_lng[1]).city_name\n",
    "    \n",
    "    # Add cities\n",
    "    if city not in cities:\n",
    "        cities.append(city)\n",
    "\n",
    "# See if we have enough cities\n",
    "len(cities)"
   ]
  },
  {
   "cell_type": "markdown",
   "metadata": {},
   "source": [
    "### Perform API Calls\n",
    "* Perform a weather check on each city using a series of successive API calls.\n",
    "* Include a print log of each city as it'sbeing processed (with the city number and city name).\n"
   ]
  },
  {
   "cell_type": "code",
   "execution_count": 7,
   "metadata": {
    "scrolled": true
   },
   "outputs": [
    {
     "name": "stdout",
     "output_type": "stream",
     "text": [
      "City found: solotvyn\n",
      "City found: richards bay\n",
      "City found: yulara\n",
      "City found: potsdam\n",
      "City found: san policarpo\n",
      "City found: mataura\n",
      "City found: meulaboh\n",
      "City not found: meyungs\n",
      "City found: bengkulu\n",
      "City found: viedma\n",
      "City found: ushuaia\n",
      "City found: port-gentil\n",
      "City found: labuhan\n",
      "City not found: karaul\n",
      "City found: winslow\n",
      "City found: rikitea\n",
      "City not found: vaitupu\n",
      "City found: paamiut\n",
      "City found: petropavlovsk-kamchatskiy\n",
      "City found: castro\n",
      "City found: lompoc\n",
      "City found: butaritari\n",
      "City found: reidsville\n",
      "City found: pisco\n",
      "City found: khandyga\n",
      "City found: biak\n",
      "City found: cheremisinovo\n",
      "City found: hermanus\n",
      "City found: yellowknife\n",
      "City found: punta arenas\n",
      "City found: cayenne\n",
      "City found: barrow\n",
      "City found: bluff\n",
      "City found: chuy\n",
      "City found: keighley\n",
      "City found: katsuura\n",
      "City found: halifax\n",
      "City found: sain alto\n",
      "City found: limerick\n",
      "City found: roma\n",
      "City found: saint-denis\n",
      "City found: porto novo\n",
      "City found: abalak\n",
      "City found: souillac\n",
      "City not found: teneguiban\n",
      "City found: bredasdorp\n",
      "City found: raudeberg\n",
      "City not found: mys shmidta\n",
      "City found: leningradskiy\n",
      "City found: kudahuvadhoo\n",
      "City found: mogadishu\n",
      "City found: torres\n",
      "City found: tasiilaq\n",
      "City found: atuona\n",
      "City found: flin flon\n",
      "City found: tamboril\n",
      "City found: pangnirtung\n",
      "City found: dikson\n",
      "City found: tabou\n",
      "City found: port alfred\n",
      "City found: pocatky\n",
      "City found: hilo\n",
      "City found: upernavik\n",
      "City found: albert\n",
      "City found: kismayo\n",
      "City found: kulhudhuffushi\n",
      "City found: mahebourg\n",
      "City found: dunda\n",
      "City found: bethel\n",
      "City found: tashara\n",
      "City found: gilgit\n",
      "City found: busselton\n",
      "City found: cape town\n",
      "City not found: taolanaro\n",
      "City found: fukue\n",
      "City found: lerwick\n",
      "City not found: nizhneyansk\n",
      "City found: santa isabel do rio negro\n",
      "City found: hobart\n",
      "City found: puerto ayora\n",
      "City found: dunedin\n",
      "City found: tessalit\n",
      "City found: wanning\n",
      "City found: longyearbyen\n",
      "City not found: belushya guba\n",
      "City found: kuhdasht\n",
      "City found: itarema\n",
      "City found: east london\n",
      "City found: rawson\n",
      "City found: khekra\n",
      "City not found: illoqqortoormiut\n",
      "City not found: sedelnikovo\n",
      "City found: prince rupert\n",
      "City found: nanortalik\n",
      "City found: saskylakh\n",
      "City found: port hardy\n",
      "City found: carnarvon\n",
      "City found: san cristobal\n",
      "City found: oum hadjer\n",
      "City found: los llanos de aridane\n",
      "City found: te anau\n",
      "City found: cozumel\n",
      "City found: lasa\n",
      "City found: ugoofaaru\n",
      "City found: ponta do sol\n",
      "City found: nikolskoye\n",
      "City found: quatre cocos\n",
      "City found: hithadhoo\n",
      "City found: savelugu\n",
      "City found: albany\n",
      "City found: portland\n",
      "City found: manoel urbano\n",
      "City found: san quintin\n",
      "City found: tuktoyaktuk\n",
      "City found: airai\n",
      "City found: cockburn town\n",
      "City found: verkhnetulomskiy\n",
      "City found: sola\n",
      "City found: esperance\n",
      "City found: kavaratti\n",
      "City found: tutoia\n",
      "City found: luanda\n",
      "City found: kot kapura\n",
      "City found: avarua\n",
      "City found: klaksvik\n",
      "City found: mandalgovi\n",
      "City found: new norfolk\n",
      "City found: itoman\n",
      "City found: vaini\n",
      "City found: carlos chagas\n",
      "City found: khatanga\n",
      "City found: saint simons\n",
      "City found: kozlovo\n",
      "City found: lalsot\n",
      "City found: hami\n",
      "City found: saint-philippe\n",
      "City found: bilibino\n",
      "City found: laguna\n",
      "City not found: barentsburg\n",
      "City found: batagay-alyta\n",
      "City found: yar-sale\n",
      "City found: ahuimanu\n",
      "City found: padang\n",
      "City found: mar del plata\n",
      "City found: shimoda\n",
      "City found: cavarzere\n",
      "City found: piacabucu\n",
      "City found: santa ana\n",
      "City found: georgetown\n",
      "City found: kamenka\n",
      "City found: kisangani\n",
      "City found: saint george\n",
      "City not found: khomeynishahr\n",
      "City found: la asuncion\n",
      "City found: salalah\n",
      "City found: jamestown\n",
      "City found: sakakah\n",
      "City not found: marcona\n",
      "City not found: mrirt\n",
      "City found: qaanaaq\n",
      "City found: gannan\n",
      "City found: grindavik\n",
      "City found: hobyo\n",
      "City found: cabo san lucas\n",
      "City found: kodiak\n",
      "City found: vestmannaeyjar\n",
      "City not found: attawapiskat\n",
      "City found: belyy yar\n",
      "City found: juneau\n",
      "City found: korla\n",
      "City not found: tumannyy\n",
      "City found: faanui\n",
      "City found: anadyr\n",
      "City not found: bargal\n",
      "City found: lebu\n",
      "City found: marawi\n",
      "City found: valdivia\n",
      "City found: jagtial\n",
      "City found: mount gambier\n",
      "City not found: tsihombe\n",
      "City found: xiongzhou\n",
      "City found: moron\n",
      "City found: bauchi\n",
      "City found: karratha\n",
      "City found: nantucket\n",
      "City found: ushtobe\n",
      "City found: baiyin\n",
      "City found: vytegra\n",
      "City found: aksay\n",
      "City found: port elizabeth\n",
      "City found: priladozhskiy\n",
      "City found: arraial do cabo\n",
      "City found: bambous virieux\n",
      "City found: coihaique\n",
      "City found: port macquarie\n",
      "City found: riyadh\n",
      "City found: kavieng\n",
      "City found: touros\n",
      "City found: coquimbo\n",
      "City not found: faridan\n",
      "City found: thompson\n",
      "City found: nedjo\n",
      "City found: kaitangata\n",
      "City found: provideniya\n",
      "City found: gat\n",
      "City found: rosita\n",
      "City found: hirara\n",
      "City found: ekibastuz\n",
      "City found: bilma\n",
      "City found: nome\n",
      "City found: kirakira\n",
      "City found: kijang\n",
      "City found: cairns\n",
      "City found: sanmenxia\n",
      "City not found: saleaula\n",
      "City found: sechura\n",
      "City found: maniitsoq\n",
      "City found: ambilobe\n",
      "City not found: halalo\n",
      "City not found: sentyabrskiy\n",
      "City not found: nepalganj\n",
      "City found: cocobeach\n",
      "City found: kushima\n",
      "City found: isangel\n",
      "City found: awjilah\n",
      "City found: lima\n",
      "City found: chiang mai\n",
      "City found: goderich\n",
      "City found: tuatapere\n",
      "City found: varginha\n",
      "City found: moussoro\n",
      "City found: jalu\n",
      "City found: valladolid\n",
      "City found: sherghati\n",
      "City found: ancud\n",
      "City not found: sumbawa\n",
      "City found: eureka\n",
      "City found: tikrit\n",
      "City found: lucera\n",
      "City not found: palabuhanratu\n",
      "City found: pevek\n",
      "City found: tiksi\n",
      "City found: mayo\n",
      "City found: santiago de cao\n",
      "City found: vardo\n",
      "City found: revelstoke\n",
      "City found: lorengau\n",
      "City found: sao filipe\n",
      "City found: hirosaki\n",
      "City found: yelizovo\n",
      "City found: codrington\n",
      "City found: paita\n",
      "City found: namatanai\n",
      "City found: praia da vitoria\n",
      "City found: nyandoma\n",
      "City found: margate\n",
      "City found: saldanha\n",
      "City found: palmer\n",
      "City found: conde\n",
      "City found: dicabisagan\n",
      "City found: takoradi\n",
      "City found: chokurdakh\n",
      "City found: buenos aires\n",
      "City found: zyryanka\n",
      "City found: olinda\n",
      "City found: kurumkan\n",
      "City found: kirovo-chepetsk\n",
      "City found: urumqi\n",
      "City found: lavrentiya\n",
      "City found: charyshskoye\n",
      "City found: saint-francois\n",
      "City found: severo-kurilsk\n",
      "City found: mitu\n",
      "City found: iqaluit\n",
      "City found: lufilufi\n",
      "City found: morondava\n",
      "City found: torbay\n",
      "City not found: samusu\n",
      "City found: khorixas\n",
      "City found: selkirk\n",
      "City not found: umzimvubu\n",
      "City found: thunder bay\n",
      "City not found: hebertville\n",
      "City found: nieuw nickerie\n",
      "City found: college\n",
      "City found: mitsamiouli\n",
      "City found: samarai\n",
      "City found: ahipara\n",
      "City found: gallup\n",
      "City found: guozhen\n",
      "City found: vinh\n",
      "City found: cherskiy\n",
      "City found: otorohanga\n",
      "City not found: toliary\n",
      "City found: hun\n",
      "City found: middle island\n",
      "City found: selfoss\n",
      "City found: kerman\n",
      "City found: nagercoil\n",
      "City found: santa rosa\n",
      "City found: waounde\n",
      "City found: horsham\n",
      "City found: kishorganj\n",
      "City found: ribeira grande\n",
      "City found: rocha\n",
      "City found: xining\n",
      "City found: dahuk\n",
      "City not found: chagda\n",
      "City not found: hvammstangi\n",
      "City found: clyde river\n",
      "City found: olafsvik\n",
      "City not found: zhetybay\n",
      "City found: yuli\n",
      "City found: luderitz\n",
      "City found: kahului\n",
      "City found: san patricio\n",
      "City found: kapaa\n",
      "City found: cortez\n",
      "City found: estevan\n",
      "City found: cap malheureux\n",
      "City found: talnakh\n",
      "City found: tasgaon\n",
      "City found: yermakovskoye\n",
      "City found: haines junction\n",
      "City found: xai-xai\n",
      "City found: bathurst\n",
      "City found: maceio\n",
      "City found: umm lajj\n",
      "City found: svetlogorsk\n",
      "City found: sokolka\n",
      "City found: mezhdurechensk\n",
      "City found: codajas\n",
      "City found: bathsheba\n",
      "City found: rio gallegos\n",
      "City found: huanuni\n",
      "City found: flinders\n",
      "City found: magadan\n",
      "City found: zamosc\n",
      "City found: ostrovnoy\n",
      "City found: guadalajara\n",
      "City found: chicama\n",
      "City found: cidreira\n",
      "City found: jequitinhonha\n",
      "City found: mecca\n",
      "City found: maromitsa\n",
      "City found: qaqortoq\n",
      "City found: beringovskiy\n",
      "City not found: wahran\n",
      "City found: carlyle\n",
      "City found: pachino\n",
      "City found: sal rei\n",
      "City found: laurel\n",
      "City found: hamilton\n",
      "City found: havoysund\n",
      "City found: hovd\n",
      "City found: alenquer\n",
      "City found: bagdarin\n",
      "City found: ayan\n",
      "City found: nador\n",
      "City found: migori\n",
      "City found: kyra\n",
      "City found: port hawkesbury\n",
      "City found: zaysan\n",
      "City found: cururupu\n",
      "City found: pacific grove\n",
      "City found: vung tau\n",
      "City found: beaune\n",
      "City found: abu dhabi\n",
      "City found: jais\n",
      "City not found: jahrom\n",
      "City found: natal\n",
      "City found: pasaco\n",
      "City found: komyshuvakha\n",
      "City found: snihurivka\n",
      "City found: mizdah\n",
      "City found: shahreza\n",
      "City found: castanhal\n",
      "City found: oranjemund\n",
      "City found: kerouane\n",
      "City not found: manzil tamim\n",
      "City found: congonhas\n",
      "City found: sao gabriel da cachoeira\n",
      "City found: distraccion\n",
      "City found: dickinson\n",
      "City found: russell\n",
      "City found: zhezkazgan\n",
      "City found: srandakan\n",
      "City not found: kadykchan\n",
      "City found: mahmudabad\n",
      "City found: ajdabiya\n",
      "City found: bull savanna\n",
      "City not found: amderma\n",
      "City found: ampanihy\n",
      "City found: port alberni\n",
      "City not found: khonuu\n",
      "City found: filimonovo\n",
      "City found: pinheiro machado\n",
      "City found: lumeje\n",
      "City found: petrozavodsk\n",
      "City found: kadhan\n",
      "City found: noshiro\n",
      "City found: sioux lookout\n",
      "City found: yumen\n",
      "City found: veshkayma\n",
      "City found: faya\n",
      "City found: wajima\n",
      "City found: zaraza\n",
      "City found: bairiki\n",
      "City found: wahiawa\n",
      "City found: aklavik\n",
      "City found: saint anthony\n",
      "City found: rock sound\n",
      "City found: charters towers\n",
      "City found: bandarbeyla\n",
      "City found: moissac\n",
      "City found: toyooka\n",
      "City found: ulladulla\n",
      "City found: corinto\n",
      "City found: bulgan\n",
      "City not found: fevralsk\n",
      "City found: asau\n",
      "City found: nakama\n",
      "City found: guerrero negro\n",
      "City found: tura\n",
      "City found: niquero\n",
      "City not found: ngukurr\n",
      "City found: rovaniemi\n",
      "City found: mira\n",
      "City found: bushehr\n",
      "City found: kabansk\n",
      "City found: gorele\n",
      "City found: jacareacanga\n",
      "City not found: tabiauea\n",
      "City found: andenes\n",
      "City found: wawa\n",
      "City found: fortuna\n",
      "City found: namibe\n",
      "City found: farafangana\n",
      "City found: idritsa\n",
      "City found: lazaro cardenas\n",
      "City found: bougouni\n",
      "City not found: scottsburgh\n",
      "City found: lubbock\n",
      "City found: berlevag\n",
      "City found: muisne\n",
      "City found: tezu\n",
      "City found: peleduy\n",
      "City not found: geresk\n",
      "City found: lagoa\n",
      "City found: tlacotalpan\n",
      "City found: carthage\n",
      "City found: baykit\n",
      "City found: shahr-e babak\n",
      "City found: geraldton\n",
      "City found: qandala\n",
      "City found: kruisfontein\n",
      "City found: mao\n",
      "City found: kindu\n",
      "City found: dzaoudzi\n",
      "City found: kalmunai\n",
      "City found: wasilla\n",
      "City found: manzhouli\n",
      "City not found: grand river south east\n",
      "City found: ostersund\n",
      "City found: hambantota\n",
      "City not found: louisbourg\n",
      "City found: vanavara\n",
      "City found: ranong\n",
      "City found: narsaq\n",
      "City found: roald\n",
      "City found: the pas\n",
      "City found: mehamn\n",
      "City found: may pen\n",
      "City found: gravelbourg\n",
      "City found: changji\n",
      "City found: san lawrenz\n",
      "City found: tommot\n",
      "City found: san andres\n",
      "City found: shebunino\n",
      "City found: moose factory\n",
      "City found: pampa\n",
      "City found: saint-georges\n",
      "City found: pinawa\n",
      "City found: concepcion\n",
      "City found: de panne\n",
      "City found: mosquera\n",
      "City found: bafra\n",
      "City found: ouesso\n",
      "City found: nizhneangarsk\n",
      "City not found: santa eulalia del rio\n",
      "City found: grand gaube\n",
      "City found: taian\n",
      "City found: mareeba\n",
      "City found: chernyy yar\n",
      "City found: selikhino\n",
      "City found: nara\n",
      "City not found: kawana waters\n",
      "City found: sinegorye\n",
      "City found: polson\n",
      "City not found: abu jubayhah\n",
      "City found: turochak\n",
      "City found: dukat\n",
      "City found: bonthe\n",
      "City found: sambava\n",
      "City found: hasaki\n",
      "City found: allada\n",
      "City found: grand-santi\n",
      "City found: champerico\n",
      "City found: aykhal\n",
      "City found: qui nhon\n",
      "City found: bafata\n",
      "City found: aleksandrovka\n",
      "City found: sassandra\n",
      "City found: chunoyar\n",
      "City found: saint-pierre\n",
      "City found: tourlaville\n",
      "City found: reconquista\n",
      "City found: derzhavinsk\n",
      "City found: chapais\n",
      "City found: morro bay\n",
      "City not found: jinchengjiang\n",
      "City not found: paradwip\n",
      "City found: harper\n",
      "City found: neiafu\n",
      "City found: puerto escondido\n",
      "City found: panalingaan\n",
      "City found: arlit\n",
      "City found: sept-iles\n",
      "City found: terrace\n",
      "City found: shache\n",
      "City found: lata\n",
      "City found: husavik\n",
      "City found: kholtoson\n",
      "City not found: milingimbi\n",
      "City found: davila\n",
      "City found: portobelo\n",
      "City found: verkhnevilyuysk\n",
      "City found: pyaozerskiy\n",
      "City found: maldonado\n",
      "City found: kloulklubed\n",
      "City found: egvekinot\n",
      "City found: brownsville\n",
      "City found: broken hill\n",
      "City found: conceicao do araguaia\n",
      "City found: caravelas\n",
      "City found: kabompo\n",
      "City found: kieta\n",
      "City found: victoria\n",
      "City found: arouca\n",
      "City found: hurghada\n",
      "City found: norman wells\n",
      "City found: caska\n",
      "City found: wuwei\n",
      "City not found: warqla\n",
      "City found: camacha\n",
      "City found: constantine\n",
      "City found: maragogi\n",
      "City found: salamanca\n",
      "City found: tateyama\n",
      "City found: colac\n",
      "City not found: makung\n",
      "City found: santa teresita\n",
      "City found: ternate\n",
      "City found: launceston\n",
      "City found: ilulissat\n",
      "City found: sao joao do paraiso\n",
      "City found: banda aceh\n",
      "City found: gogapur\n",
      "City found: hay river\n",
      "City found: cambados\n",
      "City found: burkburnett\n",
      "City found: tornio\n",
      "City found: birin\n",
      "City found: bonavista\n",
      "City found: carupano\n",
      "City found: boma\n",
      "City found: hualmay\n",
      "City found: port blair\n",
      "City found: kaeo\n",
      "City found: kirkwall\n",
      "City found: menongue\n",
      "City found: naron\n",
      "City found: beyneu\n",
      "City found: chizhou\n",
      "City found: yokadouma\n",
      "City found: toba tek singh\n",
      "City found: sorsk\n",
      "City found: pereira barreto\n",
      "City found: kinsale\n",
      "City found: mstera\n",
      "City found: lakes entrance\n",
      "City found: atar\n",
      "City found: aitape\n",
      "City found: bandrele\n",
      "City not found: satitoa\n",
      "City not found: karamea\n",
      "City found: chiredzi\n",
      "City found: campina verde\n",
      "City found: necochea\n",
      "City not found: bur gabo\n",
      "City found: aldan\n",
      "City found: port lincoln\n",
      "City found: camargo\n",
      "City found: plumbon\n",
      "City found: sistranda\n",
      "City found: jega\n",
      "City found: vaitape\n",
      "City found: walvis bay\n",
      "City found: balykshi\n",
      "City found: morant bay\n",
      "City found: kangaatsiaq\n",
      "City found: constitucion\n",
      "City found: port-cartier\n"
     ]
    }
   ],
   "source": [
    "# Create list for results\n",
    "lat = []\n",
    "lon = []\n",
    "foundCities = []\n",
    "temp = []\n",
    "humidity = []\n",
    "cloudiness = []\n",
    "windSpeed = []\n",
    "date = []\n",
    "country = []\n",
    "\n",
    "for city in cities:\n",
    "    try:\n",
    "        response = requests.get(query_url + city).json()\n",
    "        lat.append(response[\"coord\"][\"lat\"])\n",
    "        lon.append(response[\"coord\"][\"lon\"])\n",
    "        temp.append(response[\"main\"][\"temp_max\"])\n",
    "        humidity.append(response[\"main\"][\"humidity\"])\n",
    "        cloudiness.append(response[\"clouds\"][\"all\"])\n",
    "        windSpeed.append(response[\"wind\"][\"speed\"])\n",
    "        date.append(response[\"dt\"])\n",
    "        country.append(response[\"sys\"][\"country\"])\n",
    "        foundCities.append(city)\n",
    "        print(f\"City found: {city}\")\n",
    "    except:\n",
    "        print(f\"City not found: {city}\")"
   ]
  },
  {
   "cell_type": "markdown",
   "metadata": {},
   "source": [
    "### Convert Raw Data to DataFrame\n",
    "* Export the city data into a .csv.\n",
    "* Display the DataFrame"
   ]
  },
  {
   "cell_type": "code",
   "execution_count": 8,
   "metadata": {},
   "outputs": [],
   "source": [
    "# Create datafrane using above data\n",
    "weather_df = pd.DataFrame({\"City\": foundCities,\n",
    "                           \"Country\": country,\n",
    "                           \"Temperature\": temp,\n",
    "                           \"Humidity\": humidity,\n",
    "                           \"Cloudiness\": cloudiness,\n",
    "                           \"Windspeed\":windSpeed,\n",
    "                           \"Latitude\": lat,\n",
    "                           \"Longitude\": lon,\n",
    "                           \"Date\": date\n",
    "                          })"
   ]
  },
  {
   "cell_type": "code",
   "execution_count": 9,
   "metadata": {},
   "outputs": [
    {
     "data": {
      "text/html": [
       "<div>\n",
       "<style scoped>\n",
       "    .dataframe tbody tr th:only-of-type {\n",
       "        vertical-align: middle;\n",
       "    }\n",
       "\n",
       "    .dataframe tbody tr th {\n",
       "        vertical-align: top;\n",
       "    }\n",
       "\n",
       "    .dataframe thead th {\n",
       "        text-align: right;\n",
       "    }\n",
       "</style>\n",
       "<table border=\"1\" class=\"dataframe\">\n",
       "  <thead>\n",
       "    <tr style=\"text-align: right;\">\n",
       "      <th></th>\n",
       "      <th>City</th>\n",
       "      <th>Country</th>\n",
       "      <th>Temperature</th>\n",
       "      <th>Humidity</th>\n",
       "      <th>Cloudiness</th>\n",
       "      <th>Windspeed</th>\n",
       "      <th>Latitude</th>\n",
       "      <th>Longitude</th>\n",
       "      <th>Date</th>\n",
       "    </tr>\n",
       "  </thead>\n",
       "  <tbody>\n",
       "    <tr>\n",
       "      <th>0</th>\n",
       "      <td>solotvyn</td>\n",
       "      <td>UA</td>\n",
       "      <td>53.26</td>\n",
       "      <td>92</td>\n",
       "      <td>6</td>\n",
       "      <td>3.74</td>\n",
       "      <td>48.7021</td>\n",
       "      <td>24.4221</td>\n",
       "      <td>1655525591</td>\n",
       "    </tr>\n",
       "    <tr>\n",
       "      <th>1</th>\n",
       "      <td>richards bay</td>\n",
       "      <td>ZA</td>\n",
       "      <td>53.29</td>\n",
       "      <td>58</td>\n",
       "      <td>0</td>\n",
       "      <td>6.96</td>\n",
       "      <td>-28.7830</td>\n",
       "      <td>32.0377</td>\n",
       "      <td>1655525591</td>\n",
       "    </tr>\n",
       "    <tr>\n",
       "      <th>2</th>\n",
       "      <td>yulara</td>\n",
       "      <td>AU</td>\n",
       "      <td>70.45</td>\n",
       "      <td>30</td>\n",
       "      <td>67</td>\n",
       "      <td>11.59</td>\n",
       "      <td>-25.2406</td>\n",
       "      <td>130.9889</td>\n",
       "      <td>1655525328</td>\n",
       "    </tr>\n",
       "    <tr>\n",
       "      <th>3</th>\n",
       "      <td>potsdam</td>\n",
       "      <td>DE</td>\n",
       "      <td>70.29</td>\n",
       "      <td>80</td>\n",
       "      <td>97</td>\n",
       "      <td>7.61</td>\n",
       "      <td>52.3989</td>\n",
       "      <td>13.0657</td>\n",
       "      <td>1655525592</td>\n",
       "    </tr>\n",
       "    <tr>\n",
       "      <th>4</th>\n",
       "      <td>san policarpo</td>\n",
       "      <td>PH</td>\n",
       "      <td>85.80</td>\n",
       "      <td>71</td>\n",
       "      <td>30</td>\n",
       "      <td>9.71</td>\n",
       "      <td>12.1791</td>\n",
       "      <td>125.5072</td>\n",
       "      <td>1655525593</td>\n",
       "    </tr>\n",
       "    <tr>\n",
       "      <th>...</th>\n",
       "      <td>...</td>\n",
       "      <td>...</td>\n",
       "      <td>...</td>\n",
       "      <td>...</td>\n",
       "      <td>...</td>\n",
       "      <td>...</td>\n",
       "      <td>...</td>\n",
       "      <td>...</td>\n",
       "      <td>...</td>\n",
       "    </tr>\n",
       "    <tr>\n",
       "      <th>552</th>\n",
       "      <td>balykshi</td>\n",
       "      <td>KZ</td>\n",
       "      <td>69.80</td>\n",
       "      <td>78</td>\n",
       "      <td>0</td>\n",
       "      <td>8.95</td>\n",
       "      <td>47.0667</td>\n",
       "      <td>51.8667</td>\n",
       "      <td>1655525801</td>\n",
       "    </tr>\n",
       "    <tr>\n",
       "      <th>553</th>\n",
       "      <td>morant bay</td>\n",
       "      <td>JM</td>\n",
       "      <td>80.22</td>\n",
       "      <td>84</td>\n",
       "      <td>100</td>\n",
       "      <td>6.64</td>\n",
       "      <td>17.8815</td>\n",
       "      <td>-76.4093</td>\n",
       "      <td>1655525801</td>\n",
       "    </tr>\n",
       "    <tr>\n",
       "      <th>554</th>\n",
       "      <td>kangaatsiaq</td>\n",
       "      <td>GL</td>\n",
       "      <td>33.85</td>\n",
       "      <td>96</td>\n",
       "      <td>90</td>\n",
       "      <td>2.89</td>\n",
       "      <td>68.3065</td>\n",
       "      <td>-53.4641</td>\n",
       "      <td>1655525802</td>\n",
       "    </tr>\n",
       "    <tr>\n",
       "      <th>555</th>\n",
       "      <td>constitucion</td>\n",
       "      <td>CL</td>\n",
       "      <td>50.27</td>\n",
       "      <td>83</td>\n",
       "      <td>97</td>\n",
       "      <td>7.23</td>\n",
       "      <td>-35.3333</td>\n",
       "      <td>-72.4167</td>\n",
       "      <td>1655525802</td>\n",
       "    </tr>\n",
       "    <tr>\n",
       "      <th>556</th>\n",
       "      <td>port-cartier</td>\n",
       "      <td>CA</td>\n",
       "      <td>55.74</td>\n",
       "      <td>98</td>\n",
       "      <td>98</td>\n",
       "      <td>6.11</td>\n",
       "      <td>50.0334</td>\n",
       "      <td>-66.8654</td>\n",
       "      <td>1655525802</td>\n",
       "    </tr>\n",
       "  </tbody>\n",
       "</table>\n",
       "<p>557 rows × 9 columns</p>\n",
       "</div>"
      ],
      "text/plain": [
       "              City Country  Temperature  Humidity  Cloudiness  Windspeed  \\\n",
       "0         solotvyn      UA        53.26        92           6       3.74   \n",
       "1     richards bay      ZA        53.29        58           0       6.96   \n",
       "2           yulara      AU        70.45        30          67      11.59   \n",
       "3          potsdam      DE        70.29        80          97       7.61   \n",
       "4    san policarpo      PH        85.80        71          30       9.71   \n",
       "..             ...     ...          ...       ...         ...        ...   \n",
       "552       balykshi      KZ        69.80        78           0       8.95   \n",
       "553     morant bay      JM        80.22        84         100       6.64   \n",
       "554    kangaatsiaq      GL        33.85        96          90       2.89   \n",
       "555   constitucion      CL        50.27        83          97       7.23   \n",
       "556   port-cartier      CA        55.74        98          98       6.11   \n",
       "\n",
       "     Latitude  Longitude        Date  \n",
       "0     48.7021    24.4221  1655525591  \n",
       "1    -28.7830    32.0377  1655525591  \n",
       "2    -25.2406   130.9889  1655525328  \n",
       "3     52.3989    13.0657  1655525592  \n",
       "4     12.1791   125.5072  1655525593  \n",
       "..        ...        ...         ...  \n",
       "552   47.0667    51.8667  1655525801  \n",
       "553   17.8815   -76.4093  1655525801  \n",
       "554   68.3065   -53.4641  1655525802  \n",
       "555  -35.3333   -72.4167  1655525802  \n",
       "556   50.0334   -66.8654  1655525802  \n",
       "\n",
       "[557 rows x 9 columns]"
      ]
     },
     "execution_count": 9,
     "metadata": {},
     "output_type": "execute_result"
    }
   ],
   "source": [
    "# Display data\n",
    "weather_df"
   ]
  },
  {
   "cell_type": "code",
   "execution_count": 12,
   "metadata": {},
   "outputs": [],
   "source": [
    "# Export to .csv file\n",
    "weather_df.to_csv(\"../output_data/cities.csv\", index=False, header=True)"
   ]
  },
  {
   "cell_type": "markdown",
   "metadata": {},
   "source": [
    "## Inspect the data and remove the cities where the humidity > 100%.\n",
    "----\n",
    "Skip this step if there are no cities that have humidity > 100%. "
   ]
  },
  {
   "cell_type": "code",
   "execution_count": 13,
   "metadata": {},
   "outputs": [
    {
     "data": {
      "text/html": [
       "<div>\n",
       "<style scoped>\n",
       "    .dataframe tbody tr th:only-of-type {\n",
       "        vertical-align: middle;\n",
       "    }\n",
       "\n",
       "    .dataframe tbody tr th {\n",
       "        vertical-align: top;\n",
       "    }\n",
       "\n",
       "    .dataframe thead th {\n",
       "        text-align: right;\n",
       "    }\n",
       "</style>\n",
       "<table border=\"1\" class=\"dataframe\">\n",
       "  <thead>\n",
       "    <tr style=\"text-align: right;\">\n",
       "      <th></th>\n",
       "      <th>City</th>\n",
       "      <th>Country</th>\n",
       "      <th>Temperature</th>\n",
       "      <th>Humidity</th>\n",
       "      <th>Cloudiness</th>\n",
       "      <th>Windspeed</th>\n",
       "      <th>Latitude</th>\n",
       "      <th>Longitude</th>\n",
       "      <th>Date</th>\n",
       "    </tr>\n",
       "  </thead>\n",
       "  <tbody>\n",
       "  </tbody>\n",
       "</table>\n",
       "</div>"
      ],
      "text/plain": [
       "Empty DataFrame\n",
       "Columns: [City, Country, Temperature, Humidity, Cloudiness, Windspeed, Latitude, Longitude, Date]\n",
       "Index: []"
      ]
     },
     "execution_count": 13,
     "metadata": {},
     "output_type": "execute_result"
    }
   ],
   "source": [
    "# Check to see if there are any cities that have humidity > 100%\n",
    "overhumiditydf = weather_df[(weather_df['Humidity'] > 100)]\n",
    "overhumiditydf"
   ]
  },
  {
   "cell_type": "markdown",
   "metadata": {},
   "source": [
    "## Plotting the Data\n",
    "* Use proper labeling of the plots using plot titles (including date of analysis) and axes labels.\n",
    "* Save the plotted figures as .pngs."
   ]
  },
  {
   "cell_type": "markdown",
   "metadata": {},
   "source": [
    "## Latitude vs. Temperature Plot"
   ]
  },
  {
   "cell_type": "code",
   "execution_count": 15,
   "metadata": {
    "scrolled": true
   },
   "outputs": [
    {
     "data": {
      "image/png": "[encoded data removed]",
      "text/plain": [
       "<Figure size 432x288 with 1 Axes>"
      ]
     },
     "metadata": {
      "needs_background": "light"
     },
     "output_type": "display_data"
    }
   ],
   "source": [
    "x = weather_df[\"Latitude\"]\n",
    "t = weather_df[\"Temperature\"]\n",
    "\n",
    "plt.title(\"Latitude vs Temperature\")\n",
    "plt.xlabel(\"Latitude\")\n",
    "plt.ylabel(\"Temperature (F)\")\n",
    "plt.ylim(min(t)-10, max(t)+10)\n",
    "\n",
    "plt.scatter(x,t)\n",
    "\n",
    "plt.savefig(\"../output_data/lat_temp.png\")"
   ]
  },
  {
   "cell_type": "markdown",
   "metadata": {},
   "source": [
    "The plot shows that cities towards the equator (Latitude 0) are increasing in temperature while those further away are not as hot."
   ]
  },
  {
   "cell_type": "markdown",
   "metadata": {},
   "source": [
    "## Latitude vs. Humidity Plot"
   ]
  },
  {
   "cell_type": "code",
   "execution_count": 16,
   "metadata": {},
   "outputs": [
    {
     "data": {
      "image/png": "[encoded data removed]",
      "text/plain": [
       "<Figure size 432x288 with 1 Axes>"
      ]
     },
     "metadata": {
      "needs_background": "light"
     },
     "output_type": "display_data"
    }
   ],
   "source": [
    "x = weather_df[\"Latitude\"]\n",
    "h = weather_df[\"Humidity\"]\n",
    "\n",
    "plt.title(\"Latitude vs Humidity\")\n",
    "plt.xlabel(\"Latitude\")\n",
    "plt.ylabel(\"Humidity (%)\")\n",
    "plt.ylim(min(h)-10, max(h)+10)\n",
    "\n",
    "plt.scatter(x,h)\n",
    "\n",
    "plt.savefig(\"../output_data/lat_hum.png\")"
   ]
  },
  {
   "cell_type": "markdown",
   "metadata": {},
   "source": [
    "There seems to be no correlation between latitude and humidity."
   ]
  },
  {
   "cell_type": "markdown",
   "metadata": {},
   "source": [
    "## Latitude vs. Cloudiness Plot"
   ]
  },
  {
   "cell_type": "code",
   "execution_count": 17,
   "metadata": {},
   "outputs": [
    {
     "data": {
      "image/png": "[encoded data removed]",
      "text/plain": [
       "<Figure size 432x288 with 1 Axes>"
      ]
     },
     "metadata": {
      "needs_background": "light"
     },
     "output_type": "display_data"
    }
   ],
   "source": [
    "x = weather_df[\"Latitude\"]\n",
    "c = weather_df[\"Cloudiness\"]\n",
    "\n",
    "plt.title(\"Latitude vs Cloudiness\")\n",
    "plt.xlabel(\"Latitude\")\n",
    "plt.ylabel(\"Cloudiness\")\n",
    "plt.ylim(min(c)-10, max(c)+10)\n",
    "\n",
    "plt.scatter(x,c)\n",
    "\n",
    "plt.savefig(\"../output_data/lat_cloud.png\")"
   ]
  },
  {
   "cell_type": "markdown",
   "metadata": {},
   "source": [
    "The plot shows that there is no real correlation between latitude and cloudiness."
   ]
  },
  {
   "cell_type": "markdown",
   "metadata": {},
   "source": [
    "## Latitude vs. Wind Speed Plot"
   ]
  },
  {
   "cell_type": "code",
   "execution_count": 18,
   "metadata": {},
   "outputs": [
    {
     "data": {
      "image/png": "[encoded data removed]",
      "text/plain": [
       "<Figure size 432x288 with 1 Axes>"
      ]
     },
     "metadata": {
      "needs_background": "light"
     },
     "output_type": "display_data"
    }
   ],
   "source": [
    "x = weather_df[\"Latitude\"]\n",
    "w = weather_df[\"Windspeed\"]\n",
    "\n",
    "plt.title(\"Latitude vs Wind Speed\")\n",
    "plt.xlabel(\"Latitude\")\n",
    "plt.ylabel(\"Windspeed\")\n",
    "plt.ylim(min(w)-2, max(w)+5)\n",
    "\n",
    "plt.scatter(x,w)\n",
    "\n",
    "plt.savefig(\"../output_data/lat_wind.png\")"
   ]
  },
  {
   "cell_type": "markdown",
   "metadata": {},
   "source": [
    "The plot shows that there is no real correlation between latitude and wind speed."
   ]
  },
  {
   "cell_type": "markdown",
   "metadata": {},
   "source": [
    "## Linear Regression"
   ]
  },
  {
   "cell_type": "code",
   "execution_count": 19,
   "metadata": {},
   "outputs": [],
   "source": [
    "# Create seperate dataframes for north and south hemispheres\n",
    "north_hem_df = weather_df.loc[weather_df[\"Latitude\"] > 0]\n",
    "south_hem_df = weather_df.loc[weather_df[\"Latitude\"] < 0]\n",
    "\n",
    "# Check to see if we have seperated the two dataframes by seeing if the numbers add up\n",
    "#north_hem_df.count()\n",
    "#south_hem_df.count()"
   ]
  },
  {
   "cell_type": "markdown",
   "metadata": {},
   "source": [
    "####  Northern Hemisphere - Max Temp vs. Latitude Linear Regression"
   ]
  },
  {
   "cell_type": "code",
   "execution_count": 23,
   "metadata": {},
   "outputs": [
    {
     "name": "stdout",
     "output_type": "stream",
     "text": [
      "y = -0.51x + 88.51\n",
      "The r value is: -0.7\n"
     ]
    },
    {
     "data": {
      "image/png": "[encoded data removed]",
      "text/plain": [
       "<Figure size 432x288 with 1 Axes>"
      ]
     },
     "metadata": {
      "needs_background": "light"
     },
     "output_type": "display_data"
    }
   ],
   "source": [
    "nlat = north_hem_df[\"Latitude\"]\n",
    "nmaxtemp = north_hem_df[\"Temperature\"]\n",
    "\n",
    "(slope, intercept, rvalue, pvalue, stderr) = linregress(nlat, nmaxtemp)\n",
    "regression_values = slope * nlat + intercept\n",
    "line_eq = \"y = \" + str(round(slope,2)) + \"x + \" + str(round(intercept,2))\n",
    "print(line_eq)\n",
    "\n",
    "plt.scatter(nlat, nmaxtemp)\n",
    "plt.plot(nlat ,regression_values,\"r-\")\n",
    "plt.annotate(line_eq,(6,30),fontsize=15,color=\"red\")\n",
    "plt.title(\"Max Temp vs. Latitude\")\n",
    "plt.xlabel(\"Latitude\")\n",
    "plt.ylabel(\"Max Temp (F)\")\n",
    "plt.xlim(min(north_hem_df[\"Latitude\"])-2, max(north_hem_df[\"Latitude\"])+5)\n",
    "plt.ylim(min(north_hem_df[\"Temperature\"])-10, max(north_hem_df[\"Temperature\"])+10)\n",
    "\n",
    "print(f'The r value is: {round(rvalue,2)}')\n",
    "\n",
    "plt.savefig(\"../output_data/nlat_temp.png\")"
   ]
  },
  {
   "cell_type": "markdown",
   "metadata": {},
   "source": [
    "There is a strong negative correlation between the latitude and maximum temperature in the northern hemisphere. The higher the latitude of a city the colder the max temperature."
   ]
  },
  {
   "cell_type": "markdown",
   "metadata": {},
   "source": [
    "####  Southern Hemisphere - Max Temp vs. Latitude Linear Regression"
   ]
  },
  {
   "cell_type": "code",
   "execution_count": 22,
   "metadata": {},
   "outputs": [
    {
     "name": "stdout",
     "output_type": "stream",
     "text": [
      "y = 0.7x + 78.59\n",
      "The r value is: 0.74\n"
     ]
    },
    {
     "data": {
      "image/png": "[encoded data removed]",
      "text/plain": [
       "<Figure size 432x288 with 1 Axes>"
      ]
     },
     "metadata": {
      "needs_background": "light"
     },
     "output_type": "display_data"
    }
   ],
   "source": [
    "slat = south_hem_df[\"Latitude\"]\n",
    "smaxtemp = south_hem_df[\"Temperature\"]\n",
    "\n",
    "(slope, intercept, rvalue, pvalue, stderr) = linregress(slat, smaxtemp)\n",
    "regression_values = slope * slat + intercept\n",
    "line_eq = \"y = \" + str(round(slope,2)) + \"x + \" + str(round(intercept,2))\n",
    "print(line_eq)\n",
    "\n",
    "plt.scatter(slat, smaxtemp)\n",
    "plt.plot(slat ,regression_values,\"r-\")\n",
    "plt.annotate(line_eq,(-25,25),fontsize=15,color=\"red\")\n",
    "plt.title(\"Max Temp vs. Latitude\")\n",
    "plt.xlabel(\"Latitude\")\n",
    "plt.ylabel(\"Max Temp (F)\")\n",
    "plt.xlim(min(south_hem_df[\"Latitude\"])-6, max(south_hem_df[\"Latitude\"])+2)\n",
    "plt.ylim(min(south_hem_df[\"Temperature\"])-10, max(south_hem_df[\"Temperature\"])+10)\n",
    "\n",
    "print(f'The r value is: {round(rvalue,2)}')\n",
    "\n",
    "plt.savefig(\"../output_data/slat_temp.png\")"
   ]
  },
  {
   "cell_type": "markdown",
   "metadata": {},
   "source": [
    "There is a strong positive correlation between max temp and latitude in the southern hemisphere. The higher latitude a city has the higher the temp."
   ]
  },
  {
   "cell_type": "markdown",
   "metadata": {},
   "source": [
    "####  Northern Hemisphere - Humidity (%) vs. Latitude Linear Regression"
   ]
  },
  {
   "cell_type": "code",
   "execution_count": 25,
   "metadata": {},
   "outputs": [
    {
     "name": "stdout",
     "output_type": "stream",
     "text": [
      "y = -0.12x + 72.39\n",
      "The r value is: -0.1\n"
     ]
    },
    {
     "data": {
      "image/png": "[encoded data removed]",
      "text/plain": [
       "<Figure size 432x288 with 1 Axes>"
      ]
     },
     "metadata": {
      "needs_background": "light"
     },
     "output_type": "display_data"
    }
   ],
   "source": [
    "nlat = north_hem_df[\"Latitude\"]\n",
    "nhumidity = north_hem_df[\"Humidity\"]\n",
    "\n",
    "(slope, intercept, rvalue, pvalue, stderr) = linregress(nlat, nhumidity)\n",
    "regression_values = slope * nlat + intercept\n",
    "line_eq = \"y = \" + str(round(slope,2)) + \"x + \" + str(round(intercept,2))\n",
    "print(line_eq)\n",
    "\n",
    "plt.scatter(nlat, nhumidity)\n",
    "plt.plot(nlat ,regression_values,\"r-\")\n",
    "plt.annotate(line_eq,(47,0),fontsize=15,color=\"red\")\n",
    "plt.title(\"Humidity vs Latitude\")\n",
    "plt.xlabel(\"Latitude\")\n",
    "plt.ylabel(\"Humidity (%)\")\n",
    "plt.xlim(min(north_hem_df[\"Latitude\"])-0, max(north_hem_df[\"Latitude\"])+5)\n",
    "plt.ylim(min(north_hem_df[\"Humidity\"])-10, max(north_hem_df[\"Humidity\"])+10)\n",
    "\n",
    "print(f'The r value is: {round(rvalue,2)}')\n",
    "\n",
    "plt.savefig(\"../output_data/nlat_hum.png\")"
   ]
  },
  {
   "cell_type": "markdown",
   "metadata": {},
   "source": [
    "There is no correlation between humidity and latitude in the northern hemisphere."
   ]
  },
  {
   "cell_type": "markdown",
   "metadata": {},
   "source": [
    "####  Southern Hemisphere - Humidity (%) vs. Latitude Linear Regression"
   ]
  },
  {
   "cell_type": "code",
   "execution_count": 26,
   "metadata": {},
   "outputs": [
    {
     "name": "stdout",
     "output_type": "stream",
     "text": [
      "y = 0.2x + 78.33\n",
      "The r value is: 0.18\n"
     ]
    },
    {
     "data": {
      "image/png": "[encoded data removed]",
      "text/plain": [
       "<Figure size 432x288 with 1 Axes>"
      ]
     },
     "metadata": {
      "needs_background": "light"
     },
     "output_type": "display_data"
    }
   ],
   "source": [
    "slat = south_hem_df[\"Latitude\"]\n",
    "shumidity = south_hem_df[\"Humidity\"]\n",
    "\n",
    "(slope, intercept, rvalue, pvalue, stderr) = linregress(slat, shumidity)\n",
    "regression_values = slope * slat + intercept\n",
    "line_eq = \"y = \" + str(round(slope,2)) + \"x + \" + str(round(intercept,2))\n",
    "print(line_eq)\n",
    "\n",
    "plt.scatter(slat, shumidity)\n",
    "plt.plot(slat ,regression_values,\"r-\")\n",
    "plt.annotate(line_eq,(-60,20),fontsize=15,color=\"red\")\n",
    "plt.title(\"Humidity vs. Latitude\")\n",
    "plt.xlabel(\"Latitude\")\n",
    "plt.ylabel(\"Humidity (%)\")\n",
    "plt.xlim(min(south_hem_df[\"Latitude\"])-6, max(south_hem_df[\"Latitude\"])+2)\n",
    "plt.ylim(min(south_hem_df[\"Humidity\"])-10, max(south_hem_df[\"Humidity\"])+10)\n",
    "\n",
    "print(f'The r value is: {round(rvalue,2)}')\n",
    "\n",
    "plt.savefig(\"../output_data/slat_hum.png\")"
   ]
  },
  {
   "cell_type": "markdown",
   "metadata": {},
   "source": [
    "There is no correlation between humidity and latitude in the southern hemisphere."
   ]
  },
  {
   "cell_type": "markdown",
   "metadata": {},
   "source": [
    "####  Northern Hemisphere - Cloudiness (%) vs. Latitude Linear Regression"
   ]
  },
  {
   "cell_type": "code",
   "execution_count": 27,
   "metadata": {},
   "outputs": [
    {
     "name": "stdout",
     "output_type": "stream",
     "text": [
      "y = -0.13x + 64.75\n",
      "The r value is: -0.06\n"
     ]
    },
    {
     "data": {
      "image/png": "[encoded data removed]",
      "text/plain": [
       "<Figure size 432x288 with 1 Axes>"
      ]
     },
     "metadata": {
      "needs_background": "light"
     },
     "output_type": "display_data"
    }
   ],
   "source": [
    "nlat = north_hem_df[\"Latitude\"]\n",
    "ncloud = north_hem_df[\"Cloudiness\"]\n",
    "\n",
    "(slope, intercept, rvalue, pvalue, stderr) = linregress(nlat, ncloud)\n",
    "regression_values = slope * nlat + intercept\n",
    "line_eq = \"y = \" + str(round(slope,2)) + \"x + \" + str(round(intercept,2))\n",
    "print(line_eq)\n",
    "\n",
    "plt.scatter(nlat, ncloud)\n",
    "plt.plot(nlat ,regression_values,\"r-\")\n",
    "plt.annotate(line_eq,(0,-8),fontsize=10,color=\"red\")\n",
    "plt.title(\"Cloudiness vs. Latitude\")\n",
    "plt.xlabel(\"Latitude\")\n",
    "plt.ylabel(\"Cloudiness (%)\")\n",
    "plt.xlim(min(north_hem_df[\"Latitude\"])-2, max(north_hem_df[\"Latitude\"])+5)\n",
    "plt.ylim(min(north_hem_df[\"Cloudiness\"])-10, max(north_hem_df[\"Cloudiness\"])+10)\n",
    "\n",
    "print(f'The r value is: {round(rvalue,2)}')\n",
    "\n",
    "plt.savefig(\"../output_data/nlat_cloud.png\")"
   ]
  },
  {
   "cell_type": "markdown",
   "metadata": {},
   "source": [
    "There is no correlation between cloudiness and latitude in the northern hemisphere."
   ]
  },
  {
   "cell_type": "markdown",
   "metadata": {},
   "source": [
    "####  Southern Hemisphere - Cloudiness (%) vs. Latitude Linear Regression"
   ]
  },
  {
   "cell_type": "code",
   "execution_count": 28,
   "metadata": {},
   "outputs": [
    {
     "name": "stdout",
     "output_type": "stream",
     "text": [
      "y = -0.37x + 39.66\n",
      "The r value is: -0.13\n"
     ]
    },
    {
     "data": {
      "image/png": "[encoded data removed]",
      "text/plain": [
       "<Figure size 432x288 with 1 Axes>"
      ]
     },
     "metadata": {
      "needs_background": "light"
     },
     "output_type": "display_data"
    }
   ],
   "source": [
    "slat = south_hem_df[\"Latitude\"]\n",
    "scloud = south_hem_df[\"Cloudiness\"]\n",
    "\n",
    "(slope, intercept, rvalue, pvalue, stderr) = linregress(slat, scloud)\n",
    "regression_values = slope * slat + intercept\n",
    "line_eq = \"y = \" + str(round(slope,2)) + \"x + \" + str(round(intercept,2))\n",
    "print(line_eq)\n",
    "\n",
    "plt.scatter(slat, scloud)\n",
    "plt.plot(slat ,regression_values,\"r-\")\n",
    "plt.annotate(line_eq,(-60,-5),fontsize=10,color=\"red\")\n",
    "plt.title(\"Cloudiness vs. Latitude\")\n",
    "plt.xlabel(\"Latitude\")\n",
    "plt.ylabel(\"Cloudiness (%)\")\n",
    "plt.xlim(min(south_hem_df[\"Latitude\"])-6, max(south_hem_df[\"Latitude\"])+2)\n",
    "plt.ylim(min(south_hem_df[\"Cloudiness\"])-10, max(south_hem_df[\"Cloudiness\"])+10)\n",
    "\n",
    "print(f'The r value is: {round(rvalue,2)}')\n",
    "\n",
    "plt.savefig(\"../output_data/slat_cloud.png\")"
   ]
  },
  {
   "cell_type": "markdown",
   "metadata": {},
   "source": [
    "There is no correlation between cloudiness and latitude in the southern hemisphere."
   ]
  },
  {
   "cell_type": "markdown",
   "metadata": {},
   "source": [
    "####  Northern Hemisphere - Wind Speed (mph) vs. Latitude Linear Regression"
   ]
  },
  {
   "cell_type": "code",
   "execution_count": 29,
   "metadata": {},
   "outputs": [
    {
     "name": "stdout",
     "output_type": "stream",
     "text": [
      "y = 0.05x + 6.77\n",
      "The r value is: 0.15\n"
     ]
    },
    {
     "data": {
      "image/png": "[encoded data removed]",
      "text/plain": [
       "<Figure size 432x288 with 1 Axes>"
      ]
     },
     "metadata": {
      "needs_background": "light"
     },
     "output_type": "display_data"
    }
   ],
   "source": [
    "nlat = north_hem_df[\"Latitude\"]\n",
    "nws = north_hem_df[\"Windspeed\"]\n",
    "\n",
    "(slope, intercept, rvalue, pvalue, stderr) = linregress(nlat, nws)\n",
    "regression_values = slope * nlat + intercept\n",
    "line_eq = \"y = \" + str(round(slope,2)) + \"x + \" + str(round(intercept,2))\n",
    "print(line_eq)\n",
    "\n",
    "plt.scatter(nlat, nws)\n",
    "plt.plot(nlat ,regression_values,\"r-\")\n",
    "plt.annotate(line_eq,(0,-8),fontsize=10,color=\"red\")\n",
    "plt.title(\"Windspeed vs. Latitude\")\n",
    "plt.xlabel(\"Latitude\")\n",
    "plt.ylabel(\"Windspeed (mph)\")\n",
    "plt.xlim(min(north_hem_df[\"Latitude\"])-2, max(north_hem_df[\"Latitude\"])+5)\n",
    "plt.ylim(min(north_hem_df[\"Windspeed\"])-10, max(north_hem_df[\"Windspeed\"])+10)\n",
    "\n",
    "print(f'The r value is: {round(rvalue,2)}')\n",
    "\n",
    "plt.savefig(\"../output_data/nlat_wind.png\")"
   ]
  },
  {
   "cell_type": "markdown",
   "metadata": {},
   "source": [
    "There is no correlation between wind speed and latitude in the northern hemisphere."
   ]
  },
  {
   "cell_type": "markdown",
   "metadata": {},
   "source": [
    "####  Southern Hemisphere - Wind Speed (mph) vs. Latitude Linear Regression"
   ]
  },
  {
   "cell_type": "code",
   "execution_count": 30,
   "metadata": {},
   "outputs": [
    {
     "name": "stdout",
     "output_type": "stream",
     "text": [
      "y = -0.08x + 5.97\n",
      "The r value is: -0.21\n"
     ]
    },
    {
     "data": {
      "image/png": "[encoded data removed]",
      "text/plain": [
       "<Figure size 432x288 with 1 Axes>"
      ]
     },
     "metadata": {
      "needs_background": "light"
     },
     "output_type": "display_data"
    }
   ],
   "source": [
    "slat = south_hem_df[\"Latitude\"]\n",
    "sws = south_hem_df[\"Windspeed\"]\n",
    "\n",
    "(slope, intercept, rvalue, pvalue, stderr) = linregress(slat, sws)\n",
    "regression_values = slope * slat + intercept\n",
    "line_eq = \"y = \" + str(round(slope,2)) + \"x + \" + str(round(intercept,2))\n",
    "print(line_eq)\n",
    "\n",
    "plt.scatter(slat, sws)\n",
    "plt.plot(slat ,regression_values,\"r-\")\n",
    "plt.annotate(line_eq,(-60,-5),fontsize=10,color=\"red\")\n",
    "plt.title(\"Windspeed vs. Latitude\")\n",
    "plt.xlabel(\"Latitude\")\n",
    "plt.ylabel(\"Windspeed (mph)\")\n",
    "plt.xlim(min(south_hem_df[\"Latitude\"])-6, max(south_hem_df[\"Latitude\"])+2)\n",
    "plt.ylim(min(south_hem_df[\"Windspeed\"])-10, max(south_hem_df[\"Windspeed\"])+10)\n",
    "\n",
    "print(f'The r value is: {round(rvalue,2)}')\n",
    "\n",
    "plt.savefig(\"../output_data/slat_wind.png\")"
   ]
  },
  {
   "cell_type": "markdown",
   "metadata": {},
   "source": [
    "There is a very low correlation between wind speed and latitude in the southern hemisphere."
   ]
  }
 ],
 "metadata": {
  "anaconda-cloud": {},
  "interpreter": {
   "hash": "702000b211d57b632a79442625ae485d370f314288d99ac5087e285bebd1fb47"
  },
  "kernel_info": {
   "name": "python3"
  },
  "kernelspec": {
   "display_name": "Python 3.7.13 ('bootcamp')",
   "language": "python",
   "name": "python3"
  },
  "language_info": {
   "codemirror_mode": {
    "name": "ipython",
    "version": 3
   },
   "file_extension": ".py",
   "mimetype": "text/x-python",
   "name": "python",
   "nbconvert_exporter": "python",
   "pygments_lexer": "ipython3",
   "version": "3.7.13"
  },
  "latex_envs": {
   "LaTeX_envs_menu_present": true,
   "autoclose": false,
   "autocomplete": true,
   "bibliofile": "biblio.bib",
   "cite_by": "apalike",
   "current_citInitial": 1,
   "eqLabelWithNumbers": true,
   "eqNumInitial": 1,
   "hotkeys": {
    "equation": "Ctrl-E",
    "itemize": "Ctrl-I"
   },
   "labels_anchors": false,
   "latex_user_defs": false,
   "report_style_numbering": false,
   "user_envs_cfg": false
  },
  "nteract": {
   "version": "0.12.3"
  }
 },
 "nbformat": 4,
 "nbformat_minor": 2
}
